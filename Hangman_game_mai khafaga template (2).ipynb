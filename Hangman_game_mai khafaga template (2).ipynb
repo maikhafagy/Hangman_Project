{
  "cells": [
    {
      "cell_type": "markdown",
      "metadata": {},
      "source": [
        "![Alt Text](https://as2.ftcdn.net/v2/jpg/05/11/07/11/1000_F_511071154_7bfMnKC9wucqHKyDQjYEjJs7qKcfZh7W.jpg)"
      ]
    },
    {
      "cell_type": "markdown",
      "metadata": {
        "id": "0eiChuRBUflM"
      },
      "source": [
        "## Description\n",
        "> ##### The Hangman program randomly selects a secret word from a list of secret words.\n",
        "> ##### The Game: Here, a random word (a fruit name) is picked up from our collection and the player gets limited chances to guess the fruit name correctly.\n",
        "> ##### When a letter in that word is guessed correctly, that letter position in the word is made visible in the output.\n",
        "> ##### In this way, all letters of the word are to be guessed before all the chances are over.\n",
        "> ##### For convenience, the number of chances equals the word length + 2.\n",
        "> ##### For example, word to be guessed is mango, then user gets 5 + 2 = 7 chances, as mango is a five letter word.\n",
        "> ##### Make game repeats until player ends the game.\n",
        "> ##### Bonus : Create a function that takes 3 parameters `Easy`, `Medium` and `Hard` where `Medium` has more difficult words to be guessed than `Easy` and so on."
      ]
    },
    {
      "cell_type": "code",
      "execution_count": 2,
      "metadata": {},
      "outputs": [],
      "source": [
        "import random\n"
      ]
    },
    {
      "cell_type": "markdown",
      "metadata": {},
      "source": [
        "### Step 1: Define word lists (fruits by level) "
      ]
    },
    {
      "cell_type": "code",
      "execution_count": 3,
      "metadata": {},
      "outputs": [],
      "source": [
        "## easy fruits ( has short names)\n",
        "easy_words = [\"fig\", \"kiwi\", \"date\", \"plum\"]\n",
        "## Medium fruits (6–7 letters)\n",
        "medium_words = [\"papaya\", \"durian\", \"guava\", \"rambutan\"]\n",
        "## Hard fruits (8+ letters, rare)\n",
        "hard_words = [\"pomegranate\", \"dragonfruit\", \"passionfruit\", \"jackfruit\"]\n"
      ]
    },
    {
      "cell_type": "markdown",
      "metadata": {},
      "source": [
        "### Step 2: Function to choose a random word from a level"
      ]
    },
    {
      "cell_type": "code",
      "execution_count": 4,
      "metadata": {},
      "outputs": [],
      "source": [
        "def choose_word(level):\n",
        "    if level == \"easy\":\n",
        "        return random.choice(easy_words)\n",
        "    elif level == \"medium\":\n",
        "        return random.choice(medium_words)\n",
        "    else:\n",
        "        return random.choice(hard_words)\n"
      ]
    },
    {
      "cell_type": "markdown",
      "metadata": {},
      "source": [
        "### Step 3: Ask the player to choose difficulty and gues secret word"
      ]
    },
    {
      "cell_type": "code",
      "execution_count": 6,
      "metadata": {},
      "outputs": [
        {
          "name": "stdout",
          "output_type": "stream",
          "text": [
            "Okay, I picked a fruit... can you guess it?\n"
          ]
        }
      ],
      "source": [
        "level = input(\"Choose level (easy/medium/hard): \").lower()\n",
        "secret_word = choose_word(level).lower()\n",
        "print(\"Okay, I picked a fruit... can you guess it?\")\n"
      ]
    },
    {
      "cell_type": "markdown",
      "metadata": {},
      "source": [
        "### Step 4: Set attempts and create hidden version of the word"
      ]
    },
    {
      "cell_type": "code",
      "execution_count": 7,
      "metadata": {},
      "outputs": [
        {
          "name": "stdout",
          "output_type": "stream",
          "text": [
            "Secret word has 4 letters\n",
            "Attempts allowed: 6\n",
            "Hidden word: ['_', '_', '_', '_']\n"
          ]
        }
      ],
      "source": [
        "attempts = len(secret_word) + 2\n",
        "guessed = [\"_\"] * len(secret_word)\n",
        "print(\"Secret word has\", len(secret_word), \"letters\")\n",
        "print(\"Attempts allowed:\", attempts)\n",
        "print(\"Hidden word:\", guessed)"
      ]
    },
    {
      "cell_type": "markdown",
      "metadata": {},
      "source": [
        "### Step 5: do the  Main game loop"
      ]
    },
    {
      "cell_type": "code",
      "execution_count": 8,
      "metadata": {},
      "outputs": [
        {
          "name": "stdout",
          "output_type": "stream",
          "text": [
            "\n",
            "Current word: _ _ _ _\n",
            "Correct guess!\n",
            "Remaining attempts: 6\n",
            "\n",
            "Current word: _ a _ _\n",
            "Correct guess!\n",
            "Remaining attempts: 6\n",
            "\n",
            "Current word: d a _ _\n",
            "Wrong guess!\n",
            "Remaining attempts: 5\n",
            "\n",
            "Current word: d a _ _\n",
            "Correct guess!\n",
            "Remaining attempts: 5\n",
            "\n",
            "Current word: d a t _\n",
            "Wrong guess!\n",
            "Remaining attempts: 4\n",
            "\n",
            "Current word: d a t _\n",
            "Correct guess!\n",
            "Remaining attempts: 4\n",
            "Congratulations! You guessed the word: date\n"
          ]
        }
      ],
      "source": [
        "while attempts > 0 and \"_\" in guessed:\n",
        "    print(\"\\nCurrent word:\", \" \".join(guessed))\n",
        "    guess = input(\"Guess a letter: \").lower()\n",
        "    \n",
        "    if guess in secret_word:\n",
        "        print(\"Correct guess!\")\n",
        "        for i, letter in enumerate(secret_word):\n",
        "            if letter == guess:\n",
        "                guessed[i] = guess\n",
        "    else:\n",
        "        print(\"Wrong guess!\")\n",
        "        attempts -= 1\n",
        "    \n",
        "    print(\"Remaining attempts:\", attempts)\n",
        "\n",
        "if \"_\" not in guessed:\n",
        "    print(\"Congratulations! You guessed the word:\", secret_word)\n",
        "else:\n",
        "    print(\"Game over! The word was:\", secret_word)\n"
      ]
    }
  ],
  "metadata": {
    "colab": {
      "provenance": []
    },
    "kernelspec": {
      "display_name": "Python 3",
      "language": "python",
      "name": "python3"
    },
    "language_info": {
      "codemirror_mode": {
        "name": "ipython",
        "version": 3
      },
      "file_extension": ".py",
      "mimetype": "text/x-python",
      "name": "python",
      "nbconvert_exporter": "python",
      "pygments_lexer": "ipython3",
      "version": "3.13.7"
    }
  },
  "nbformat": 4,
  "nbformat_minor": 0
}
